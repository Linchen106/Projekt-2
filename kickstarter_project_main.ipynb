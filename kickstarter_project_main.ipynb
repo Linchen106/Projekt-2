{
 "cells": [
  {
   "cell_type": "markdown",
   "metadata": {},
   "source": [
    "# Kickstarter Project"
   ]
  },
  {
   "cell_type": "markdown",
   "metadata": {},
   "source": [
    "# Business Understanding"
   ]
  },
  {
   "cell_type": "code",
   "execution_count": 2,
   "metadata": {},
   "outputs": [],
   "source": [
    "import pandas as pd\n",
    "import matplotlib.pyplot as plt\n",
    "import numpy as np\n",
    "import seaborn as sns\n",
    "import statsmodels.api as sms\n",
    "import copy\n",
    "import glob\n",
    "\n",
    "import warnings\n",
    "warnings.filterwarnings('ignore')\n",
    "%matplotlib inline\n",
    "\n",
    "from IPython.display import Image\n",
    "from scipy.stats import norm\n",
    "from sklearn.preprocessing import StandardScaler\n",
    "from scipy import stats\n",
    "from sklearn.datasets import load_boston\n",
    "from sklearn.metrics import r2_score, mean_squared_error\n",
    "from sklearn.linear_model import LinearRegression\n",
    "from sklearn.model_selection import train_test_split \n",
    "from sklearn.preprocessing import PolynomialFeatures\n",
    "from scipy.special import boxcox1p\n",
    "from sklearn.linear_model import ElasticNet, Lasso,  BayesianRidge, LassoLarsIC\n",
    "from sklearn.ensemble import RandomForestRegressor,  GradientBoostingRegressor\n",
    "from sklearn.kernel_ridge import KernelRidge\n",
    "from sklearn.pipeline import make_pipeline\n",
    "from sklearn.preprocessing import RobustScaler\n",
    "from sklearn.base import BaseEstimator, TransformerMixin, RegressorMixin, clone\n",
    "from sklearn.model_selection import KFold, cross_val_score, train_test_split\n",
    "from sklearn.metrics import mean_squared_error"
   ]
  },
  {
   "cell_type": "code",
   "execution_count": 3,
   "metadata": {},
   "outputs": [],
   "source": [
    "\n",
    "tabelle = pd.read_excel('List_features_EDA.xlsx', sheet_name = 'Jupyter', na_values = ['.','*'])"
   ]
  },
  {
   "cell_type": "code",
   "execution_count": 4,
   "metadata": {},
   "outputs": [
    {
     "data": {
      "image/jpeg": "[encoded data removed]",
      "text/plain": [
       "<IPython.core.display.Image object>"
      ]
     },
     "execution_count": 4,
     "metadata": {},
     "output_type": "execute_result"
    }
   ],
   "source": [
    "from IPython.display import Image\n",
    "Image ('Schwein_ks.jpg')"
   ]
  },
  {
   "cell_type": "markdown",
   "metadata": {},
   "source": [
    "## Einlesen der csv-Datei"
   ]
  },
  {
   "cell_type": "code",
   "execution_count": 5,
   "metadata": {},
   "outputs": [],
   "source": [
    "# Einlesen der csv-Datei\n",
    "\n",
    "import glob\n",
    "import pandas as pd\n",
    "# get data file names\n",
    "path =r'/Users/brittarover/nf-sep-2020/Projekt_2/data'\n",
    "filenames = glob.glob(path + \"/*.csv\")\n",
    "dfs = []\n",
    "for filename in filenames:\n",
    "       dfs.append(pd.read_csv(filename))\n",
    "# Concatenate all data into one DataFrame\n",
    "df = pd.concat(dfs, ignore_index=True)"
   ]
  },
  {
   "cell_type": "markdown",
   "metadata": {},
   "source": [
    "# Data Cleaning"
   ]
  },
  {
   "cell_type": "markdown",
   "metadata": {},
   "source": [
    "## Check for nullvalues\n",
    "The check shows that the following features: friends, is_backing, is_starred and permissions can be dropped due to missing data issue."
   ]
  },
  {
   "cell_type": "code",
   "execution_count": 17,
   "metadata": {},
   "outputs": [
    {
     "name": "stdout",
     "output_type": "stream",
     "text": [
      "              Count  Percentage\n",
      "blurb             2         0.0\n",
      "friends      192664       100.0\n",
      "is_backing   192664       100.0\n",
      "is_starred   192664       100.0\n",
      "location        215         0.1\n",
      "permissions  192664       100.0\n",
      "usd_type         38         0.0\n"
     ]
    }
   ],
   "source": [
    "# checking null values\n",
    "nan = pd.DataFrame(df.isnull().sum(),columns=['Count'])\n",
    "nan['Percentage'] = round(nan.Count/df.shape[0]*100,1)\n",
    "print(nan[nan.Count!=0])"
   ]
  },
  {
   "cell_type": "markdown",
   "metadata": {},
   "source": [
    "## Check for duplicates\n",
    "No relevant duplicate."
   ]
  },
  {
   "cell_type": "code",
   "execution_count": 18,
   "metadata": {},
   "outputs": [
    {
     "name": "stdout",
     "output_type": "stream",
     "text": [
      "No duplicated entries found\n"
     ]
    }
   ],
   "source": [
    "# generate count statistics of duplicate entries\n",
    "if len(df[df.duplicated()]) > 0:\n",
    "    print(\"No. of duplicated entries: \", len(df[df.duplicated()]))\n",
    "    print(df[df.duplicated(keep=False)].sort_values(by=list(df.columns)).head())\n",
    "else:\n",
    "    print(\"No duplicated entries found\")"
   ]
  },
  {
   "cell_type": "markdown",
   "metadata": {},
   "source": [
    "## Check for outliners"
   ]
  },
  {
   "cell_type": "markdown",
   "metadata": {},
   "source": [
    "## Check and change of the datatypes"
   ]
  },
  {
   "cell_type": "markdown",
   "metadata": {},
   "source": [
    "### Datetime Issues\n",
    "We change the features deadline and launched_at and create a new feature duration later. The dates created_at and state_changed_at are dropped."
   ]
  },
  {
   "cell_type": "markdown",
   "metadata": {},
   "source": [
    "#### Feature deadline"
   ]
  },
  {
   "cell_type": "code",
   "execution_count": 19,
   "metadata": {},
   "outputs": [],
   "source": [
    "# change Date-times deadline\n",
    "df['deadline'] = pd.to_datetime(df['deadline'], unit='s')"
   ]
  },
  {
   "cell_type": "code",
   "execution_count": 20,
   "metadata": {},
   "outputs": [],
   "source": [
    "# split date to year and month and delete deadline later \n",
    "df['year_deadline'] = df['deadline'].dt.year \n",
    "df['month_deadline'] = df['deadline'].dt.month \n",
    "df['day_deadline'] = df['deadline'].dt.day\n",
    "df['time_deadline'] = df['deadline'].dt.time"
   ]
  },
  {
   "cell_type": "markdown",
   "metadata": {},
   "source": [
    "#### Feature launched_at"
   ]
  },
  {
   "cell_type": "code",
   "execution_count": 21,
   "metadata": {},
   "outputs": [],
   "source": [
    "# change Date-times launched_at\n",
    "df['launched_at'] = pd.to_datetime(df['launched_at'], unit='s')"
   ]
  },
  {
   "cell_type": "code",
   "execution_count": 22,
   "metadata": {},
   "outputs": [],
   "source": [
    "# split date to year and month and delete deadline later \n",
    "df['year_launched'] = df['launched_at'].dt.year \n",
    "df['month_launched'] = df['launched_at'].dt.month \n",
    "df['day_launched'] = df['launched_at'].dt.day\n",
    "df['time_launched'] = df['launched_at'].dt.time"
   ]
  },
  {
   "cell_type": "code",
   "execution_count": 61,
   "metadata": {},
   "outputs": [
    {
     "data": {
      "text/plain": [
       "Tuesday      39755\n",
       "Monday       34135\n",
       "Wednesday    33802\n",
       "Thursday     29531\n",
       "Friday       28500\n",
       "Saturday     14807\n",
       "Sunday       12134\n",
       "Name: day_launched, dtype: int64"
      ]
     },
     "execution_count": 61,
     "metadata": {},
     "output_type": "execute_result"
    }
   ],
   "source": [
    "# Launch day of week\n",
    "df['day_launched'] = df['launched_at'].dt.weekday_name\n",
    "df.day_launched.value_counts()"
   ]
  },
  {
   "cell_type": "markdown",
   "metadata": {},
   "source": [
    "##  Datachange due to inconsistency reasons"
   ]
  },
  {
   "cell_type": "markdown",
   "metadata": {},
   "source": [
    "### Feature goal_USD\n"
   ]
  },
  {
   "cell_type": "code",
   "execution_count": 23,
   "metadata": {},
   "outputs": [],
   "source": [
    "# The information in feature goal has different currencies. This needs to be changed\n",
    "df[\"goal_usd\"]=df[\"goal\"]*df[\"static_usd_rate\"]"
   ]
  },
  {
   "cell_type": "markdown",
   "metadata": {},
   "source": [
    "### Label state\n",
    "We only consider the states which can be used for predictions."
   ]
  },
  {
   "cell_type": "code",
   "execution_count": 16,
   "metadata": {},
   "outputs": [],
   "source": [
    "# We only consider the states which can be used for prediction\n",
    "df.query(\"state in ['failed','successful']\", inplace=True)"
   ]
  },
  {
   "cell_type": "markdown",
   "metadata": {},
   "source": [
    "## Datasplit"
   ]
  },
  {
   "cell_type": "markdown",
   "metadata": {},
   "source": [
    "### Feature Category / Sub- and Maincategory"
   ]
  },
  {
   "cell_type": "code",
   "execution_count": 26,
   "metadata": {},
   "outputs": [],
   "source": [
    "# split column category\n",
    "import ast\n",
    "df_cat = (pd.DataFrame(df['category'].apply(ast.literal_eval).values.tolist()))"
   ]
  },
  {
   "cell_type": "code",
   "execution_count": 27,
   "metadata": {},
   "outputs": [
    {
     "data": {
      "text/plain": [
       "1               Rock\n",
       "2      Playing Cards\n",
       "3         Nonfiction\n",
       "4    Classical Music\n",
       "5    Classical Music\n",
       "Name: subcategory_name, dtype: object"
      ]
     },
     "execution_count": 27,
     "metadata": {},
     "output_type": "execute_result"
    }
   ],
   "source": [
    "# New Column subcategory_name\n",
    "df[\"subcategory_name\"]=df_cat.name\n",
    "df.subcategory_name.head()"
   ]
  },
  {
   "cell_type": "code",
   "execution_count": 47,
   "metadata": {},
   "outputs": [
    {
     "data": {
      "text/plain": [
       "1         14\n",
       "2         12\n",
       "3         18\n",
       "4         14\n",
       "5         14\n",
       "6          0\n",
       "7         17\n",
       "8          9\n",
       "9         10\n",
       "10        18\n",
       "11        14\n",
       "13        18\n",
       "14        17\n",
       "15        15\n",
       "16        10\n",
       "17        17\n",
       "18        18\n",
       "19         9\n",
       "20        14\n",
       "21        18\n",
       "22         1\n",
       "23         0\n",
       "24         9\n",
       "25        10\n",
       "26        14\n",
       "28        16\n",
       "29         0\n",
       "30        12\n",
       "31        18\n",
       "32         1\n",
       "          ..\n",
       "209192     0\n",
       "209193     0\n",
       "209194     0\n",
       "209195     0\n",
       "209196     0\n",
       "209197     0\n",
       "209198     0\n",
       "209199     0\n",
       "209200     0\n",
       "209201     0\n",
       "209202     0\n",
       "209203     0\n",
       "209204     0\n",
       "209205     0\n",
       "209206     0\n",
       "209207     0\n",
       "209208     0\n",
       "209209     0\n",
       "209210     0\n",
       "209211     0\n",
       "209212     0\n",
       "209213     0\n",
       "209214     0\n",
       "209215     0\n",
       "209216     0\n",
       "209217     0\n",
       "209218     0\n",
       "209219     0\n",
       "209220     0\n",
       "209221     0\n",
       "Name: maincategory, Length: 192664, dtype: int64"
      ]
     },
     "execution_count": 47,
     "metadata": {},
     "output_type": "execute_result"
    }
   ],
   "source": [
    "# new column maincategory\n",
    "df[\"maincategory\"]=df_cat.parent_id\n",
    "df.maincategory.fillna(0,inplace=True)\n",
    "df.maincategory.astype(int)"
   ]
  },
  {
   "cell_type": "code",
   "execution_count": 48,
   "metadata": {},
   "outputs": [],
   "source": [
    "df['maincategory_name']=df.maincategory.apply(lambda x: \"Art\" if x==1 else \"Comics\" if x==3 else \"Dance\" if x==6 else\n",
    "                                              \"Design\" if x==7 else \"Fashion\" if x==9 else \"Food\" if x==10 else \"Film_Video\" if x==11 else\n",
    "                                              \"Games\" if x==12 else \"Journalism\" if x==13 else \"Music\" if x==14 else \"Photography\" \n",
    "                                              if x==15 else\n",
    "                                              \"Technology\" if x==16 else \"Theater\" if x==17 else \"Publisihing\" if x==18 else\n",
    "                                              \"Crafts\" if x==26 else 0)"
   ]
  },
  {
   "cell_type": "markdown",
   "metadata": {},
   "source": [
    "## Check continous & category data"
   ]
  },
  {
   "cell_type": "markdown",
   "metadata": {},
   "source": [
    "### Boolean features and features with only two values"
   ]
  },
  {
   "cell_type": "markdown",
   "metadata": {},
   "source": [
    "#### staff_picked"
   ]
  },
  {
   "cell_type": "code",
   "execution_count": 30,
   "metadata": {},
   "outputs": [],
   "source": [
    "## Boolean features: staff_picked, spotlight and currency_trailing_code can be skipped due to different reasons\n",
    "\n",
    "df['staff_pick']=df['staff_pick'].apply(lambda x: int(x==True))\n"
   ]
  },
  {
   "cell_type": "markdown",
   "metadata": {},
   "source": [
    "#### Label state\n",
    "The label has only two possible values: successful and failed. "
   ]
  },
  {
   "cell_type": "code",
   "execution_count": 50,
   "metadata": {},
   "outputs": [],
   "source": [
    "# change of the labelcolumn\n",
    "df['state_bin']=df['state'].apply(lambda x: 1 if x=='successful' else 0)\n"
   ]
  },
  {
   "cell_type": "markdown",
   "metadata": {},
   "source": [
    "#### usd_type\n",
    "The feature has only two possible values: international and domestic. "
   ]
  },
  {
   "cell_type": "code",
   "execution_count": 32,
   "metadata": {},
   "outputs": [],
   "source": [
    "# set category data to type \"category\"\n",
    "df['usd_type']=df['usd_type'].apply(lambda x: 1 if x=='international' else 0)"
   ]
  },
  {
   "cell_type": "markdown",
   "metadata": {},
   "source": [
    "## Categorical features"
   ]
  },
  {
   "cell_type": "markdown",
   "metadata": {},
   "source": [
    "### currency_cat"
   ]
  },
  {
   "cell_type": "code",
   "execution_count": 35,
   "metadata": {},
   "outputs": [],
   "source": [
    "df['currency_cat']=df['currency'].apply(lambda x: 1 if x=='USD' else 2 if x=='GBP' else 3 if x=='EUR'else 4 if\n",
    "                                     x=='CAD' else\n",
    "                                     5 if x=='AUD' else 6 if x=='MXN' else 7 if x=='SEK' else 8)"
   ]
  },
  {
   "cell_type": "markdown",
   "metadata": {},
   "source": [
    "### country_cat"
   ]
  },
  {
   "cell_type": "code",
   "execution_count": 36,
   "metadata": {},
   "outputs": [],
   "source": [
    "df['country_cat']=df['country'].apply(lambda x: 1 if x=='US' else 0)"
   ]
  },
  {
   "cell_type": "code",
   "execution_count": 63,
   "metadata": {},
   "outputs": [],
   "source": [
    "df['day_launched_cat']=df['day_launched'] .apply(lambda x: 1 if x=='Monday' else 2 if x=='Tuesday' else 3 if \n",
    "                                                x=='Wednesday' else 4 if x=='Thursday' else 5 if x=='Friday'\n",
    "                                                else 6 if x=='Saturday'else 7 )"
   ]
  },
  {
   "cell_type": "markdown",
   "metadata": {},
   "source": [
    "## Normalization"
   ]
  },
  {
   "cell_type": "markdown",
   "metadata": {},
   "source": [
    "### For goal_usd and usd_pledged"
   ]
  },
  {
   "cell_type": "code",
   "execution_count": 38,
   "metadata": {},
   "outputs": [],
   "source": [
    "# Einführung neuer features goal_usd_log und usd_pledged_log\n",
    "\n",
    "df[\"goal_usd_log\"]=np.log(df.goal_usd)\n",
    "df[\"usd_pledged_log\"]=np.log(df.usd_pledged)"
   ]
  },
  {
   "cell_type": "code",
   "execution_count": null,
   "metadata": {},
   "outputs": [],
   "source": []
  },
  {
   "cell_type": "code",
   "execution_count": 21,
   "metadata": {},
   "outputs": [
    {
     "data": {
      "text/html": [
       "<a href='Schwein_ks.jpg' target='_blank'>Schwein_ks.jpg</a><br>"
      ],
      "text/plain": [
       "/Users/brittarover/nf-sep-2020/Projekt_2/Schwein_ks.jpg"
      ]
     },
     "execution_count": 21,
     "metadata": {},
     "output_type": "execute_result"
    }
   ],
   "source": [
    "from IPython.display import FileLink, FileLinks\n",
    "FileLink('Schwein_ks.jpg')"
   ]
  },
  {
   "cell_type": "markdown",
   "metadata": {},
   "source": [
    "# Summary EDA"
   ]
  },
  {
   "cell_type": "markdown",
   "metadata": {},
   "source": [
    "## overview features\n",
    "The features can be grouped into the following groups: **amount / currency**, **campaign**, **country**, **project infos** and **time issues**. See the table below.\n",
    "\n",
    "A couple of features can be dropped due to different reasons: duplicates (currency symbol, pledged), no needed information (converted_pledged_amount), data consistency(goal is replaced by goal_usd), no variance (is starrable, disable_communication), not filled(friends, is_backing, is_starred, permissions) and no information gain (id..).\n",
    "Spotlight is always true in case of a project of being successful.\n",
    "\n",
    "We will continue with the following features:\n",
    "\n",
    "- **duration**: new feature duration of a project , computated via lauched_at and created_at\n",
    "- **year_launched**: year in which the project is launched\n",
    "- **month_launched**: month in which the project is launched\n",
    "- **day_launched_cat**: weekday in which the project is launched\n",
    "\n",
    "- **maincategory_name**: category of the kickstarter project, can be splitted into main- and subcategory\n",
    "- **country_cat**: category of country, 1 in case of US\n",
    "\n",
    "- **usd_type**: type of project, 1 in case of a international project\n",
    "\n",
    "- **backers_count**: the number of backers of the regarded project\n",
    "- **staff_pick**: flag for shortfilm, 1 if exists \n",
    "\n",
    "- **goal_usd_log**: log of the goal of a project in USD, computated via goal*static_usd_rate\n",
    "- **usd_pledged_log**: log of the goal of a project in USD, computated via goal*static_usd_rate\n",
    "- **currency_cat**: category of project, 1 = USD, 2 = GBP, 3 = EUR, 4 = CAD, 5 = AUD, 6 = MXN, 7 = SEK, 8 = Others\n",
    "- **static_usd_rate**: historic exchange rate\n",
    "\n",
    "\n",
    "We will analyze which features have the most significant impact to the label: the success of a project (state). A project will be successfull if the pledged amount (usd_pledged) is bigger than the goal (goal_usd). Otherwise it is failed."
   ]
  },
  {
   "cell_type": "code",
   "execution_count": 7,
   "metadata": {},
   "outputs": [
    {
     "data": {
      "text/html": [
       "<div>\n",
       "<style scoped>\n",
       "    .dataframe tbody tr th:only-of-type {\n",
       "        vertical-align: middle;\n",
       "    }\n",
       "\n",
       "    .dataframe tbody tr th {\n",
       "        vertical-align: top;\n",
       "    }\n",
       "\n",
       "    .dataframe thead th {\n",
       "        text-align: right;\n",
       "    }\n",
       "</style>\n",
       "<table border=\"1\" class=\"dataframe\">\n",
       "  <thead>\n",
       "    <tr style=\"text-align: right;\">\n",
       "      <th></th>\n",
       "      <th>Feature</th>\n",
       "      <th>Type</th>\n",
       "      <th>Description</th>\n",
       "      <th>new Features</th>\n",
       "      <th>Why Dropping?</th>\n",
       "      <th>Remaining Y / N</th>\n",
       "    </tr>\n",
       "  </thead>\n",
       "  <tbody>\n",
       "    <tr>\n",
       "      <th>0</th>\n",
       "      <td>Amount / Currency</td>\n",
       "      <td>NaN</td>\n",
       "      <td>NaN</td>\n",
       "      <td>NaN</td>\n",
       "      <td>NaN</td>\n",
       "      <td>NaN</td>\n",
       "    </tr>\n",
       "    <tr>\n",
       "      <th>1</th>\n",
       "      <td>converted_pledged_amount</td>\n",
       "      <td>integer</td>\n",
       "      <td>Amount in Currency indcluding currency gain an...</td>\n",
       "      <td>NaN</td>\n",
       "      <td>NaN</td>\n",
       "      <td>N</td>\n",
       "    </tr>\n",
       "    <tr>\n",
       "      <th>2</th>\n",
       "      <td>currency</td>\n",
       "      <td>object</td>\n",
       "      <td>Currency</td>\n",
       "      <td>dummy</td>\n",
       "      <td>NaN</td>\n",
       "      <td>Y</td>\n",
       "    </tr>\n",
       "    <tr>\n",
       "      <th>3</th>\n",
       "      <td>currency_symbol</td>\n",
       "      <td>object</td>\n",
       "      <td>Symbol currency</td>\n",
       "      <td>NaN</td>\n",
       "      <td>No additional information</td>\n",
       "      <td>N</td>\n",
       "    </tr>\n",
       "    <tr>\n",
       "      <th>4</th>\n",
       "      <td>currency_trailing_code</td>\n",
       "      <td>bollean</td>\n",
       "      <td>Trading currency, False if Currency is USD</td>\n",
       "      <td>NaN</td>\n",
       "      <td>Kein Impact auf die Erfolgsrate</td>\n",
       "      <td>N</td>\n",
       "    </tr>\n",
       "    <tr>\n",
       "      <th>5</th>\n",
       "      <td>current_currency</td>\n",
       "      <td>object</td>\n",
       "      <td>Alternative Currency</td>\n",
       "      <td>NaN</td>\n",
       "      <td>NaN</td>\n",
       "      <td>N</td>\n",
       "    </tr>\n",
       "    <tr>\n",
       "      <th>6</th>\n",
       "      <td>fx_rate</td>\n",
       "      <td>float</td>\n",
       "      <td>Actual currency rate</td>\n",
       "      <td>NaN</td>\n",
       "      <td>NaN</td>\n",
       "      <td>N</td>\n",
       "    </tr>\n",
       "    <tr>\n",
       "      <th>7</th>\n",
       "      <td>goal</td>\n",
       "      <td>float</td>\n",
       "      <td>Goal for project in currency</td>\n",
       "      <td>goal_usd</td>\n",
       "      <td>Value in currency -&gt; new feature goal_usd</td>\n",
       "      <td>Y</td>\n",
       "    </tr>\n",
       "    <tr>\n",
       "      <th>8</th>\n",
       "      <td>pledged</td>\n",
       "      <td>float</td>\n",
       "      <td>Value pledged in Currency</td>\n",
       "      <td>NaN</td>\n",
       "      <td>Feature can be dropped -&gt; usd_pledged is compa...</td>\n",
       "      <td>N</td>\n",
       "    </tr>\n",
       "    <tr>\n",
       "      <th>9</th>\n",
       "      <td>static_usd_rate</td>\n",
       "      <td>float</td>\n",
       "      <td>Historic currency rate of a project</td>\n",
       "      <td>NaN</td>\n",
       "      <td>NaN</td>\n",
       "      <td>Y</td>\n",
       "    </tr>\n",
       "    <tr>\n",
       "      <th>10</th>\n",
       "      <td>usd_pledged</td>\n",
       "      <td>float</td>\n",
       "      <td>Value pledged in USD</td>\n",
       "      <td>NaN</td>\n",
       "      <td>NaN</td>\n",
       "      <td>Y</td>\n",
       "    </tr>\n",
       "    <tr>\n",
       "      <th>11</th>\n",
       "      <td>Campaign</td>\n",
       "      <td>NaN</td>\n",
       "      <td>NaN</td>\n",
       "      <td>NaN</td>\n",
       "      <td>NaN</td>\n",
       "      <td>NaN</td>\n",
       "    </tr>\n",
       "    <tr>\n",
       "      <th>12</th>\n",
       "      <td>backers_count</td>\n",
       "      <td>integer</td>\n",
       "      <td>Amount of backers of a project</td>\n",
       "      <td>NaN</td>\n",
       "      <td>NaN</td>\n",
       "      <td>Y</td>\n",
       "    </tr>\n",
       "    <tr>\n",
       "      <th>13</th>\n",
       "      <td>blurb</td>\n",
       "      <td>object</td>\n",
       "      <td>short description of the project</td>\n",
       "      <td>NaN</td>\n",
       "      <td>NaN</td>\n",
       "      <td>N</td>\n",
       "    </tr>\n",
       "    <tr>\n",
       "      <th>14</th>\n",
       "      <td>disable_communication</td>\n",
       "      <td>bollean</td>\n",
       "      <td>messaging deactivated</td>\n",
       "      <td>NaN</td>\n",
       "      <td>Only one value -&gt; feature holds no information</td>\n",
       "      <td>N</td>\n",
       "    </tr>\n",
       "    <tr>\n",
       "      <th>15</th>\n",
       "      <td>friends</td>\n",
       "      <td>object</td>\n",
       "      <td>Friends</td>\n",
       "      <td>NaN</td>\n",
       "      <td>99 % not filled</td>\n",
       "      <td>N</td>\n",
       "    </tr>\n",
       "    <tr>\n",
       "      <th>16</th>\n",
       "      <td>is_backing</td>\n",
       "      <td>object</td>\n",
       "      <td>information if there are any backers</td>\n",
       "      <td>NaN</td>\n",
       "      <td>99 % not filled</td>\n",
       "      <td>N</td>\n",
       "    </tr>\n",
       "    <tr>\n",
       "      <th>17</th>\n",
       "      <td>is_starrable</td>\n",
       "      <td>bollean</td>\n",
       "      <td>NaN</td>\n",
       "      <td>NaN</td>\n",
       "      <td>Only one value -&gt; feature holds no information</td>\n",
       "      <td>N</td>\n",
       "    </tr>\n",
       "    <tr>\n",
       "      <th>18</th>\n",
       "      <td>is_starred</td>\n",
       "      <td>object</td>\n",
       "      <td>NaN</td>\n",
       "      <td>NaN</td>\n",
       "      <td>99 % not filled</td>\n",
       "      <td>N</td>\n",
       "    </tr>\n",
       "    <tr>\n",
       "      <th>19</th>\n",
       "      <td>permissions</td>\n",
       "      <td>object</td>\n",
       "      <td>NaN</td>\n",
       "      <td>NaN</td>\n",
       "      <td>NaN</td>\n",
       "      <td>N</td>\n",
       "    </tr>\n",
       "    <tr>\n",
       "      <th>20</th>\n",
       "      <td>profile</td>\n",
       "      <td>object</td>\n",
       "      <td>NaN</td>\n",
       "      <td>NaN</td>\n",
       "      <td>NaN</td>\n",
       "      <td>N</td>\n",
       "    </tr>\n",
       "    <tr>\n",
       "      <th>21</th>\n",
       "      <td>source_url</td>\n",
       "      <td>object</td>\n",
       "      <td>NaN</td>\n",
       "      <td>NaN</td>\n",
       "      <td>NaN</td>\n",
       "      <td>N</td>\n",
       "    </tr>\n",
       "    <tr>\n",
       "      <th>22</th>\n",
       "      <td>spotlight</td>\n",
       "      <td>bollean</td>\n",
       "      <td>spotlighted in display</td>\n",
       "      <td>NaN</td>\n",
       "      <td>Variable geändert</td>\n",
       "      <td>Y</td>\n",
       "    </tr>\n",
       "    <tr>\n",
       "      <th>23</th>\n",
       "      <td>staff_pick</td>\n",
       "      <td>bollean</td>\n",
       "      <td>short film for project</td>\n",
       "      <td>NaN</td>\n",
       "      <td>Variable geändert</td>\n",
       "      <td>Y</td>\n",
       "    </tr>\n",
       "    <tr>\n",
       "      <th>24</th>\n",
       "      <td>photo</td>\n",
       "      <td>object</td>\n",
       "      <td>NaN</td>\n",
       "      <td>NaN</td>\n",
       "      <td>NaN</td>\n",
       "      <td>N</td>\n",
       "    </tr>\n",
       "    <tr>\n",
       "      <th>25</th>\n",
       "      <td>slug</td>\n",
       "      <td>object</td>\n",
       "      <td>NaN</td>\n",
       "      <td>NaN</td>\n",
       "      <td>NaN</td>\n",
       "      <td>N</td>\n",
       "    </tr>\n",
       "    <tr>\n",
       "      <th>26</th>\n",
       "      <td>urls</td>\n",
       "      <td>object</td>\n",
       "      <td>NaN</td>\n",
       "      <td>NaN</td>\n",
       "      <td>NaN</td>\n",
       "      <td>N</td>\n",
       "    </tr>\n",
       "    <tr>\n",
       "      <th>27</th>\n",
       "      <td>Campaign</td>\n",
       "      <td>NaN</td>\n",
       "      <td>NaN</td>\n",
       "      <td>NaN</td>\n",
       "      <td>NaN</td>\n",
       "      <td>NaN</td>\n",
       "    </tr>\n",
       "    <tr>\n",
       "      <th>28</th>\n",
       "      <td>country</td>\n",
       "      <td>object</td>\n",
       "      <td>country</td>\n",
       "      <td>dummy</td>\n",
       "      <td>NaN</td>\n",
       "      <td>Y</td>\n",
       "    </tr>\n",
       "    <tr>\n",
       "      <th>29</th>\n",
       "      <td>location</td>\n",
       "      <td>object</td>\n",
       "      <td>state and location</td>\n",
       "      <td>neue Features</td>\n",
       "      <td>NaN</td>\n",
       "      <td>Y</td>\n",
       "    </tr>\n",
       "  </tbody>\n",
       "</table>\n",
       "</div>"
      ],
      "text/plain": [
       "                     Feature     Type  \\\n",
       "0          Amount / Currency      NaN   \n",
       "1   converted_pledged_amount  integer   \n",
       "2                   currency  object    \n",
       "3            currency_symbol  object    \n",
       "4     currency_trailing_code  bollean   \n",
       "5           current_currency  object    \n",
       "6                    fx_rate    float   \n",
       "7                       goal    float   \n",
       "8                    pledged    float   \n",
       "9            static_usd_rate    float   \n",
       "10               usd_pledged    float   \n",
       "11                  Campaign      NaN   \n",
       "12             backers_count  integer   \n",
       "13                     blurb  object    \n",
       "14     disable_communication  bollean   \n",
       "15                   friends  object    \n",
       "16                is_backing  object    \n",
       "17              is_starrable  bollean   \n",
       "18                is_starred  object    \n",
       "19               permissions  object    \n",
       "20                   profile  object    \n",
       "21                source_url  object    \n",
       "22                 spotlight  bollean   \n",
       "23                staff_pick  bollean   \n",
       "24                     photo  object    \n",
       "25                      slug  object    \n",
       "26                      urls  object    \n",
       "27                  Campaign      NaN   \n",
       "28                   country  object    \n",
       "29                  location  object    \n",
       "\n",
       "                                          Description   new Features  \\\n",
       "0                                                 NaN            NaN   \n",
       "1   Amount in Currency indcluding currency gain an...            NaN   \n",
       "2                                            Currency          dummy   \n",
       "3                                    Symbol currency             NaN   \n",
       "4          Trading currency, False if Currency is USD            NaN   \n",
       "5                               Alternative Currency             NaN   \n",
       "6                                Actual currency rate            NaN   \n",
       "7                        Goal for project in currency       goal_usd   \n",
       "8                           Value pledged in Currency            NaN   \n",
       "9                 Historic currency rate of a project            NaN   \n",
       "10                               Value pledged in USD            NaN   \n",
       "11                                                NaN            NaN   \n",
       "12                     Amount of backers of a project            NaN   \n",
       "13                   short description of the project            NaN   \n",
       "14                              messaging deactivated            NaN   \n",
       "15                                            Friends            NaN   \n",
       "16               information if there are any backers            NaN   \n",
       "17                                                NaN            NaN   \n",
       "18                                                NaN            NaN   \n",
       "19                                                NaN            NaN   \n",
       "20                                                NaN            NaN   \n",
       "21                                                NaN            NaN   \n",
       "22                             spotlighted in display            NaN   \n",
       "23                             short film for project            NaN   \n",
       "24                                                NaN            NaN   \n",
       "25                                                NaN            NaN   \n",
       "26                                                NaN            NaN   \n",
       "27                                                NaN            NaN   \n",
       "28                                            country          dummy   \n",
       "29                                 state and location  neue Features   \n",
       "\n",
       "                                        Why Dropping? Remaining Y / N  \n",
       "0                                                 NaN             NaN  \n",
       "1                                                 NaN               N  \n",
       "2                                                 NaN               Y  \n",
       "3                           No additional information               N  \n",
       "4                     Kein Impact auf die Erfolgsrate               N  \n",
       "5                                                 NaN               N  \n",
       "6                                                 NaN               N  \n",
       "7           Value in currency -> new feature goal_usd               Y  \n",
       "8   Feature can be dropped -> usd_pledged is compa...               N  \n",
       "9                                                 NaN               Y  \n",
       "10                                                NaN               Y  \n",
       "11                                                NaN             NaN  \n",
       "12                                                NaN               Y  \n",
       "13                                                NaN               N  \n",
       "14     Only one value -> feature holds no information               N  \n",
       "15                                    99 % not filled               N  \n",
       "16                                    99 % not filled               N  \n",
       "17     Only one value -> feature holds no information               N  \n",
       "18                                    99 % not filled               N  \n",
       "19                                                NaN               N  \n",
       "20                                                NaN               N  \n",
       "21                                                NaN               N  \n",
       "22                                  Variable geändert               Y  \n",
       "23                                  Variable geändert               Y  \n",
       "24                                                NaN               N  \n",
       "25                                                NaN               N  \n",
       "26                                                NaN               N  \n",
       "27                                                NaN             NaN  \n",
       "28                                                NaN               Y  \n",
       "29                                                NaN               Y  "
      ]
     },
     "execution_count": 7,
     "metadata": {},
     "output_type": "execute_result"
    }
   ],
   "source": [
    "# overview features NOCH NICHT DIE FINALE FASSUNG\n",
    "tabelle.head(30)"
   ]
  },
  {
   "cell_type": "code",
   "execution_count": null,
   "metadata": {},
   "outputs": [],
   "source": []
  },
  {
   "cell_type": "markdown",
   "metadata": {},
   "source": [
    "# Definition of models and feature engineering"
   ]
  },
  {
   "cell_type": "markdown",
   "metadata": {},
   "source": [
    "## Definition of basemodel\n",
    "\n",
    "Our base models contains the following features: launched_year, launched_month, launched_weekday, subcategory_name, usd_type, backers_count, staff_pick, goal_usd_log, usd_pledged_log, currency_cat and static_usd_rate."
   ]
  },
  {
   "cell_type": "markdown",
   "metadata": {},
   "source": [
    "### Definition of a new dataframe and X, y"
   ]
  },
  {
   "cell_type": "code",
   "execution_count": 76,
   "metadata": {},
   "outputs": [],
   "source": [
    "# Definition of X and y\n",
    "\n",
    "df_basismodel=df[['state_bin','year_launched','month_launched', \n",
    "                  'day_launched_cat','usd_type','backers_count','staff_pick',\n",
    "                  'goal_usd_log', 'usd_pledged_log', 'currency_cat','static_usd_rate','maincategory_name']]\n"
   ]
  },
  {
   "cell_type": "markdown",
   "metadata": {},
   "source": [
    "### Correlations"
   ]
  },
  {
   "cell_type": "code",
   "execution_count": 77,
   "metadata": {},
   "outputs": [
    {
     "data": {
      "text/plain": [
       "<AxesSubplot:title={'center':'Korrelation nach Pearson'}>"
      ]
     },
     "execution_count": 77,
     "metadata": {},
     "output_type": "execute_result"
    },
    {
     "data": {
      "image/png": "[encoded data removed]",
      "text/plain": [
       "<Figure size 720x576 with 1 Axes>"
      ]
     },
     "metadata": {
      "needs_background": "light"
     },
     "output_type": "display_data"
    }
   ],
   "source": [
    "# correlation\n",
    "basis=df_basismodel.corr(method='pearson')['state_bin'].sort_values(axis=0, ascending=False)\n",
    "basis.plot(kind='bar',figsize=(10,8),title='Korrelation nach Pearson')"
   ]
  },
  {
   "cell_type": "markdown",
   "metadata": {},
   "source": [
    "## Correlations with dummyvariables"
   ]
  },
  {
   "cell_type": "code",
   "execution_count": 78,
   "metadata": {},
   "outputs": [],
   "source": [
    "# Einführung von Dummyvariablen für die Korrelationsanalyse\n",
    "main_dummy= pd.get_dummies(df_basismodel['maincategory_name'], prefix='sub', drop_first=True)"
   ]
  },
  {
   "cell_type": "code",
   "execution_count": 79,
   "metadata": {},
   "outputs": [],
   "source": [
    "main_dum = df_basismodel.drop(['maincategory_name'], axis=1)"
   ]
  },
  {
   "cell_type": "code",
   "execution_count": 82,
   "metadata": {},
   "outputs": [],
   "source": [
    "main_dum = pd.concat([main_dum,main_dummy], axis=1)"
   ]
  },
  {
   "cell_type": "code",
   "execution_count": 83,
   "metadata": {},
   "outputs": [
    {
     "data": {
      "text/plain": [
       "<AxesSubplot:title={'center':'Korrelation nach Pearson'}>"
      ]
     },
     "execution_count": 83,
     "metadata": {},
     "output_type": "execute_result"
    },
    {
     "data": {
      "image/png": "[encoded data removed]",
      "text/plain": [
       "<Figure size 720x576 with 1 Axes>"
      ]
     },
     "metadata": {
      "needs_background": "light"
     },
     "output_type": "display_data"
    }
   ],
   "source": [
    "# correlation\n",
    "basis_dum=main_dum.corr(method='pearson')['state_bin'].sort_values(axis=0, ascending=False)\n",
    "basis_dum.plot(kind='bar',figsize=(10,8),title='Korrelation nach Pearson')"
   ]
  },
  {
   "cell_type": "code",
   "execution_count": 75,
   "metadata": {},
   "outputs": [
    {
     "data": {
      "text/plain": [
       "16"
      ]
     },
     "execution_count": 75,
     "metadata": {},
     "output_type": "execute_result"
    }
   ],
   "source": [
    "df.maincategory_name.nunique()"
   ]
  },
  {
   "cell_type": "code",
   "execution_count": null,
   "metadata": {},
   "outputs": [],
   "source": []
  },
  {
   "cell_type": "code",
   "execution_count": null,
   "metadata": {},
   "outputs": [],
   "source": []
  },
  {
   "cell_type": "markdown",
   "metadata": {},
   "source": [
    "## Definition of a further model"
   ]
  },
  {
   "cell_type": "markdown",
   "metadata": {},
   "source": [
    "## Future work"
   ]
  },
  {
   "cell_type": "markdown",
   "metadata": {},
   "source": [
    "Our future work will be to discuss the following items:\n",
    "- **name**: name of the project\n",
    "- **blurb**: short description of the project\n",
    "- **profile**: contains a couple of profilerelated features\n",
    "- **photo**: information about photos attached to the project\n",
    "- **slug**: search engine text, contains a couple of features"
   ]
  },
  {
   "cell_type": "code",
   "execution_count": null,
   "metadata": {},
   "outputs": [],
   "source": []
  }
 ],
 "metadata": {
  "kernelspec": {
   "display_name": "Python [conda env:nf] *",
   "language": "python",
   "name": "conda-env-nf-py"
  },
  "language_info": {
   "codemirror_mode": {
    "name": "ipython",
    "version": 3
   },
   "file_extension": ".py",
   "mimetype": "text/x-python",
   "name": "python",
   "nbconvert_exporter": "python",
   "pygments_lexer": "ipython3",
   "version": "3.6.10"
  },
  "toc": {
   "base_numbering": 1,
   "nav_menu": {},
   "number_sections": true,
   "sideBar": true,
   "skip_h1_title": false,
   "title_cell": "Table of Contents",
   "title_sidebar": "Contents",
   "toc_cell": false,
   "toc_position": {},
   "toc_section_display": true,
   "toc_window_display": true
  },
  "varInspector": {
   "cols": {
    "lenName": 16,
    "lenType": 16,
    "lenVar": 40
   },
   "kernels_config": {
    "python": {
     "delete_cmd_postfix": "",
     "delete_cmd_prefix": "del ",
     "library": "var_list.py",
     "varRefreshCmd": "print(var_dic_list())"
    },
    "r": {
     "delete_cmd_postfix": ") ",
     "delete_cmd_prefix": "rm(",
     "library": "var_list.r",
     "varRefreshCmd": "cat(var_dic_list()) "
    }
   },
   "types_to_exclude": [
    "module",
    "function",
    "builtin_function_or_method",
    "instance",
    "_Feature"
   ],
   "window_display": false
  }
 },
 "nbformat": 4,
 "nbformat_minor": 4
}
